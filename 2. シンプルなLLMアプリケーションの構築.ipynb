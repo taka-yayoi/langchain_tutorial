{
 "cells": [
  {
   "cell_type": "markdown",
   "metadata": {
    "application/vnd.databricks.v1+cell": {
     "cellMetadata": {},
     "inputWidgets": {},
     "nuid": "6e36d8ab-09ae-43ed-a4c9-ab4847f966e9",
     "showTitle": false,
     "tableResultSettingsMap": {},
     "title": ""
    }
   },
   "source": [
    "# チャットモデルとプロンプトテンプレートを使用してシンプルなLLMアプリケーションを構築する\n",
    "\n",
    "[Build a simple LLM application with chat models and prompt templates \\| 🦜️🔗 LangChain](https://python.langchain.com/docs/tutorials/llm_chain/)\n",
    "\n",
    "このクイックスタートでは、LangChainを使用してシンプルなLLMアプリケーションを構築する方法を紹介します。このアプリケーションは、英語のテキストを他の言語に翻訳します。これは比較的シンプルなLLMアプリケーションで、単一のLLM呼び出しといくつかのプロンプトだけです。それでも、LangChainを始めるには素晴らしい方法です。いくつかのプロンプトとLLM呼び出しだけで多くの機能を構築できます！\n",
    "\n",
    "このチュートリアルを読んだ後、次のことについての概要を理解できます：\n",
    "\n",
    "- [言語モデル](https://python.langchain.com/docs/concepts/chat_models/)の使用\n",
    "- [プロンプトテンプレート](https://python.langchain.com/docs/concepts/prompt_templates/)の使用\n",
    "- [LangSmith](https://docs.smith.langchain.com/)を使用したアプリケーションのデバッグとトレース\n",
    "\n",
    "さあ、始めましょう！"
   ]
  },
  {
   "cell_type": "code",
   "execution_count": 0,
   "metadata": {
    "application/vnd.databricks.v1+cell": {
     "cellMetadata": {
      "byteLimit": 2048000,
      "rowLimit": 10000
     },
     "inputWidgets": {},
     "nuid": "eee674d6-9a6e-4a2d-837b-d702cf9ae565",
     "showTitle": false,
     "tableResultSettingsMap": {},
     "title": ""
    }
   },
   "outputs": [],
   "source": [
    "%pip install -qU langchain[openai] databricks-langchain mlflow\n",
    "%restart_python"
   ]
  },
  {
   "cell_type": "code",
   "execution_count": 0,
   "metadata": {
    "application/vnd.databricks.v1+cell": {
     "cellMetadata": {
      "byteLimit": 2048000,
      "rowLimit": 10000
     },
     "inputWidgets": {},
     "nuid": "57a5c65e-acdb-4115-8364-939d8ea63712",
     "showTitle": false,
     "tableResultSettingsMap": {},
     "title": ""
    }
   },
   "outputs": [],
   "source": [
    "import mlflow\n",
    "\n",
    "# MLflow Tracingの有効化\n",
    "mlflow.langchain.autolog()"
   ]
  },
  {
   "cell_type": "code",
   "execution_count": 0,
   "metadata": {
    "application/vnd.databricks.v1+cell": {
     "cellMetadata": {
      "byteLimit": 2048000,
      "rowLimit": 10000
     },
     "inputWidgets": {},
     "nuid": "5272f9b9-7462-42a8-b6cc-556de2010876",
     "showTitle": false,
     "tableResultSettingsMap": {},
     "title": ""
    }
   },
   "outputs": [],
   "source": [
    "import os\n",
    "os.environ[\"OPENAI_API_KEY\"] = dbutils.secrets.get(\"demo-token-takaaki.yayoi\", \"openai_api_key\")"
   ]
  },
  {
   "cell_type": "markdown",
   "metadata": {
    "application/vnd.databricks.v1+cell": {
     "cellMetadata": {},
     "inputWidgets": {},
     "nuid": "5ad24562-e7bb-4a9e-9af1-4e3b5e6eedd6",
     "showTitle": false,
     "tableResultSettingsMap": {},
     "title": ""
    }
   },
   "source": [
    "## 言語モデルの利用\n",
    "\n",
    "まず、言語モデルを単独で使用する方法を学びましょう。LangChainは、多くの異なる言語モデルをサポートしており、それらを相互に交換して使用できます。特定のモデルの使用を開始するための詳細については、[サポートされているインテグレーション](https://python.langchain.com/docs/integrations/chat/)を参照してください。"
   ]
  },
  {
   "cell_type": "code",
   "execution_count": 0,
   "metadata": {
    "application/vnd.databricks.v1+cell": {
     "cellMetadata": {
      "byteLimit": 2048000,
      "rowLimit": 10000
     },
     "inputWidgets": {},
     "nuid": "694b7b20-4a75-4dfe-b85f-81f5409f1c83",
     "showTitle": false,
     "tableResultSettingsMap": {},
     "title": ""
    }
   },
   "outputs": [],
   "source": [
    "from langchain.chat_models import init_chat_model\n",
    "\n",
    "model = init_chat_model(\"gpt-4o-mini\", model_provider=\"openai\")"
   ]
  },
  {
   "cell_type": "markdown",
   "metadata": {
    "application/vnd.databricks.v1+cell": {
     "cellMetadata": {},
     "inputWidgets": {},
     "nuid": "275e7ae9-98c5-42bc-9fa8-57659f4dd0c7",
     "showTitle": false,
     "tableResultSettingsMap": {},
     "title": ""
    }
   },
   "source": [
    "まず、モデルを直接使用してみましょう。[ChatModels](https://python.langchain.com/docs/concepts/chat_models/)はLangChain [Runnables](https://python.langchain.com/docs/concepts/runnables/)のインスタンスであり、それらと対話するための標準インターフェースを提供します。モデルを単純に呼び出すには、[メッセージ](https://python.langchain.com/docs/concepts/messages/)のリストを`.invoke`メソッドに渡すことができます。"
   ]
  },
  {
   "cell_type": "code",
   "execution_count": 0,
   "metadata": {
    "application/vnd.databricks.v1+cell": {
     "cellMetadata": {
      "byteLimit": 2048000,
      "rowLimit": 10000
     },
     "inputWidgets": {},
     "nuid": "520959cd-ace2-404a-be99-4e76af319407",
     "showTitle": false,
     "tableResultSettingsMap": {},
     "title": ""
    }
   },
   "outputs": [],
   "source": [
    "from langchain_core.messages import HumanMessage, SystemMessage\n",
    "\n",
    "messages = [\n",
    "    SystemMessage(\"以下を英語から日本語に翻訳して\"),\n",
    "    HumanMessage(\"hi!\"),\n",
    "]\n",
    "\n",
    "model.invoke(messages)"
   ]
  },
  {
   "cell_type": "markdown",
   "metadata": {
    "application/vnd.databricks.v1+cell": {
     "cellMetadata": {},
     "inputWidgets": {},
     "nuid": "3a2282a1-cd4f-4e69-96d1-f4d8ad98f896",
     "showTitle": false,
     "tableResultSettingsMap": {},
     "title": ""
    }
   },
   "source": [
    "**APIリファレンス:** [HumanMessage](https://python.langchain.com/api_reference/core/messages/langchain_core.messages.human.HumanMessage.html) | [SystemMessage](https://python.langchain.com/api_reference/core/messages/langchain_core.messages.system.SystemMessage.html)\n",
    "\n",
    "ChatModelsは[メッセージ](https://python.langchain.com/docs/concepts/messages/)オブジェクトを入力として受け取り、メッセージオブジェクトを出力として生成します。メッセージオブジェクトはテキストコンテンツに加えて、会話の[役割](https://python.langchain.com/docs/concepts/messages/#role)を伝え、[ツールの呼び出し](https://python.langchain.com/docs/concepts/tool_calling/)やトークン使用量などの重要なデータを保持します。"
   ]
  },
  {
   "cell_type": "markdown",
   "metadata": {
    "application/vnd.databricks.v1+cell": {
     "cellMetadata": {},
     "inputWidgets": {},
     "nuid": "903b4fb0-8e2b-4d5c-a81b-a5ca2f31d5a7",
     "showTitle": false,
     "tableResultSettingsMap": {},
     "title": ""
    }
   },
   "source": [
    "LangChainは、文字列や[OpenAI形式](https://python.langchain.com/docs/concepts/messages/#openai-format)でのチャットモデル入力もサポートしています。以下は等価です："
   ]
  },
  {
   "cell_type": "code",
   "execution_count": 0,
   "metadata": {
    "application/vnd.databricks.v1+cell": {
     "cellMetadata": {
      "byteLimit": 2048000,
      "rowLimit": 10000
     },
     "inputWidgets": {},
     "nuid": "53787549-f87d-483a-a718-3e8a38c7c326",
     "showTitle": false,
     "tableResultSettingsMap": {},
     "title": ""
    }
   },
   "outputs": [],
   "source": [
    "model.invoke(\"Hello\")\n",
    "\n",
    "model.invoke([{\"role\": \"user\", \"content\": \"Hello\"}])\n",
    "\n",
    "model.invoke([HumanMessage(\"Hello\")])"
   ]
  },
  {
   "cell_type": "markdown",
   "metadata": {
    "application/vnd.databricks.v1+cell": {
     "cellMetadata": {},
     "inputWidgets": {},
     "nuid": "f15d8871-ca62-4cb1-97ae-b8e1f158c034",
     "showTitle": false,
     "tableResultSettingsMap": {},
     "title": ""
    }
   },
   "source": [
    "## ストリーミング\n",
    "\n",
    "チャットモデルは[Runnable](https://python.langchain.com/docs/concepts/runnables/)であるため、非同期およびストリーミングモードの呼び出しを含む標準インターフェースを公開しています。これにより、チャットモデルから個々のトークンをストリーミングすることができます："
   ]
  },
  {
   "cell_type": "code",
   "execution_count": 0,
   "metadata": {
    "application/vnd.databricks.v1+cell": {
     "cellMetadata": {
      "byteLimit": 2048000,
      "rowLimit": 10000
     },
     "inputWidgets": {},
     "nuid": "24bff5fd-232d-4a70-b4fe-5c69791451b3",
     "showTitle": false,
     "tableResultSettingsMap": {},
     "title": ""
    }
   },
   "outputs": [],
   "source": [
    "for token in model.stream(messages):\n",
    "    print(token.content, end=\"|\")"
   ]
  },
  {
   "cell_type": "markdown",
   "metadata": {
    "application/vnd.databricks.v1+cell": {
     "cellMetadata": {},
     "inputWidgets": {},
     "nuid": "a8c3d9c3-b683-47ed-b823-70782708c5e2",
     "showTitle": false,
     "tableResultSettingsMap": {},
     "title": ""
    }
   },
   "source": [
    "ストリーミングチャットモデルの出力に関する詳細は、[このガイド](https://python.langchain.com/docs/how_to/chat_streaming/)で確認できます。"
   ]
  },
  {
   "cell_type": "markdown",
   "metadata": {
    "application/vnd.databricks.v1+cell": {
     "cellMetadata": {},
     "inputWidgets": {},
     "nuid": "cb144c16-cdf9-4d22-91e0-a30d9c955ab0",
     "showTitle": false,
     "tableResultSettingsMap": {},
     "title": ""
    }
   },
   "source": [
    "## プロンプトテンプレート\n",
    "現在、メッセージのリストを直接言語モデルに渡しています。このメッセージのリストはどこから来るのでしょうか？通常、これはユーザー入力とアプリケーションロジックの組み合わせから構築されます。このアプリケーションロジックは通常、生のユーザー入力を取り、それを言語モデルに渡す準備ができたメッセージのリストに変換します。一般的な変換には、システムメッセージの追加やユーザー入力を使用したテンプレートのフォーマットが含まれます。\n",
    "\n",
    "[プロンプトテンプレート](https://python.langchain.com/docs/concepts/prompt_templates/)は、この変換を支援するためにLangChainで設計された概念です。これらは生のユーザー入力を受け取り、言語モデルに渡す準備ができたデータ（プロンプト）を返します。\n",
    "\n",
    "ここでプロンプトテンプレートを作成しましょう。これは2つのユーザー変数を受け取ります：\n",
    "\n",
    "- `language`: 翻訳する言語\n",
    "- `text`: 翻訳するテキスト"
   ]
  },
  {
   "cell_type": "code",
   "execution_count": 0,
   "metadata": {
    "application/vnd.databricks.v1+cell": {
     "cellMetadata": {
      "byteLimit": 2048000,
      "rowLimit": 10000
     },
     "inputWidgets": {},
     "nuid": "469e3af6-75f1-4800-87c4-d7689e7fe46a",
     "showTitle": false,
     "tableResultSettingsMap": {},
     "title": ""
    }
   },
   "outputs": [],
   "source": [
    "from langchain_core.prompts import ChatPromptTemplate\n",
    "\n",
    "system_template = \"以下を英語から {language} に翻訳して\"\n",
    "\n",
    "prompt_template = ChatPromptTemplate.from_messages(\n",
    "    [(\"system\", system_template), (\"user\", \"{text}\")]\n",
    ")"
   ]
  },
  {
   "cell_type": "markdown",
   "metadata": {
    "application/vnd.databricks.v1+cell": {
     "cellMetadata": {},
     "inputWidgets": {},
     "nuid": "cd037e67-64aa-4739-bce1-e4b101351c87",
     "showTitle": false,
     "tableResultSettingsMap": {},
     "title": ""
    }
   },
   "source": [
    "**APIリファレンス:** [ChatPromptTemplate](https://python.langchain.com/api_reference/core/prompts/langchain_core.prompts.chat.ChatPromptTemplate.html)"
   ]
  },
  {
   "cell_type": "markdown",
   "metadata": {
    "application/vnd.databricks.v1+cell": {
     "cellMetadata": {},
     "inputWidgets": {},
     "nuid": "5c22009a-5fc8-403c-ae67-83ebe66af882",
     "showTitle": false,
     "tableResultSettingsMap": {},
     "title": ""
    }
   },
   "source": [
    "ChatPromptTemplateは、単一のテンプレートで複数の[メッセージロール](https://python.langchain.com/docs/concepts/messages/#role)をサポートしていることに注意してください。システムメッセージに`language`パラメータをフォーマットし、ユーザーメッセージにユーザーのテキストをフォーマットします。\n",
    "\n",
    "このプロンプトテンプレートへの入力はディクショナリーです。このプロンプトテンプレートを単独で操作して、何ができるかを確認できます。"
   ]
  },
  {
   "cell_type": "code",
   "execution_count": 0,
   "metadata": {
    "application/vnd.databricks.v1+cell": {
     "cellMetadata": {
      "byteLimit": 2048000,
      "rowLimit": 10000
     },
     "inputWidgets": {},
     "nuid": "2f31fe4f-c3ff-4d8c-b475-7cd5986dac2d",
     "showTitle": false,
     "tableResultSettingsMap": {},
     "title": ""
    }
   },
   "outputs": [],
   "source": [
    "prompt = prompt_template.invoke({\"language\": \"日本語\", \"text\": \"hi!\"})\n",
    "\n",
    "prompt"
   ]
  },
  {
   "cell_type": "markdown",
   "metadata": {
    "application/vnd.databricks.v1+cell": {
     "cellMetadata": {},
     "inputWidgets": {},
     "nuid": "fe8d7c4b-0746-4aa3-b80b-a16016cd58bf",
     "showTitle": false,
     "tableResultSettingsMap": {},
     "title": ""
    }
   },
   "source": [
    "2つのメッセージで構成される`ChatPromptValue`が返されることがわかります。メッセージに直接アクセスしたい場合は、次のようにします:"
   ]
  },
  {
   "cell_type": "code",
   "execution_count": 0,
   "metadata": {
    "application/vnd.databricks.v1+cell": {
     "cellMetadata": {
      "byteLimit": 2048000,
      "rowLimit": 10000
     },
     "inputWidgets": {},
     "nuid": "f898c8b4-46e9-46bd-b37e-68dd1724de4e",
     "showTitle": false,
     "tableResultSettingsMap": {},
     "title": ""
    }
   },
   "outputs": [],
   "source": [
    "prompt.to_messages()"
   ]
  },
  {
   "cell_type": "markdown",
   "metadata": {
    "application/vnd.databricks.v1+cell": {
     "cellMetadata": {},
     "inputWidgets": {},
     "nuid": "dda8e03d-e043-4663-898f-ea130f88fcc1",
     "showTitle": false,
     "tableResultSettingsMap": {},
     "title": ""
    }
   },
   "source": [
    "最後に、フォーマットされたプロンプトでチャットモデルを呼び出すことができます:"
   ]
  },
  {
   "cell_type": "code",
   "execution_count": 0,
   "metadata": {
    "application/vnd.databricks.v1+cell": {
     "cellMetadata": {
      "byteLimit": 2048000,
      "rowLimit": 10000
     },
     "inputWidgets": {},
     "nuid": "8d9c6955-36ce-4ff8-a807-139ffea37923",
     "showTitle": false,
     "tableResultSettingsMap": {},
     "title": ""
    }
   },
   "outputs": [],
   "source": [
    "response = model.invoke(prompt)\n",
    "print(response.content)"
   ]
  },
  {
   "cell_type": "markdown",
   "metadata": {
    "application/vnd.databricks.v1+cell": {
     "cellMetadata": {},
     "inputWidgets": {},
     "nuid": "56a5458a-0212-4878-8206-a495d0106a4f",
     "showTitle": false,
     "tableResultSettingsMap": {},
     "title": ""
    }
   },
   "source": [
    "## まとめ\n",
    "\n",
    "以上です！このチュートリアルでは、最初のシンプルなLLMアプリケーションの作成方法を学びました。言語モデルの操作方法、プロンプトテンプレートの作成方法、LangSmithを使用して作成したアプリケーションの優れた可観測性を得る方法を学びました。\n",
    "\n",
    "これは、熟練したAIエンジニアになるために学ぶべきことのほんの一部に過ぎません。幸いなことに、他にも多くのリソースがあります！\n",
    "\n",
    "LangChainのコアコンセプトについてさらに読みたい場合は、詳細な[コンセプトガイド](https://python.langchain.com/docs/concepts/)があります。\n",
    "\n",
    "これらのコンセプトに関して具体的な質問がある場合は、ハウツーガイドの以下のセクションをチェックしてください:\n",
    "\n",
    "- [Chat models](https://python.langchain.com/docs/how_to/#chat-models)\n",
    "- [Prompt templates](https://python.langchain.com/docs/how_to/#prompt-templates)"
   ]
  }
 ],
 "metadata": {
  "application/vnd.databricks.v1+notebook": {
   "computePreferences": null,
   "dashboards": [],
   "environmentMetadata": {
    "base_environment": "",
    "environment_version": "2"
   },
   "language": "python",
   "notebookMetadata": {
    "pythonIndentUnit": 2
   },
   "notebookName": "2. シンプルなLLMアプリケーションの構築",
   "widgets": {}
  },
  "language_info": {
   "name": "python"
  }
 },
 "nbformat": 4,
 "nbformat_minor": 0
}
