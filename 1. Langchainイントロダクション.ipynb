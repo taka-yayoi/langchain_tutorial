{
 "cells": [
  {
   "cell_type": "markdown",
   "metadata": {
    "application/vnd.databricks.v1+cell": {
     "cellMetadata": {},
     "inputWidgets": {},
     "nuid": "e960e89f-3631-47da-9e34-c9a3479ae326",
     "showTitle": false,
     "tableResultSettingsMap": {},
     "title": ""
    }
   },
   "source": [
    "# Langchainイントロダクション\n",
    "\n",
    "[Introduction \\| 🦜️🔗 LangChain](https://python.langchain.com/docs/introduction/)\n",
    "\n",
    "**LangChain**は、大規模言語モデル（LLM）を活用したアプリケーションを開発するためのフレームワークです。\n",
    "\n",
    "LangChainは、LLMアプリケーションのライフサイクルのあらゆる段階を簡素化します：\n",
    "\n",
    "- **開発:** LangChainのオープンソース[コンポーネント](https://python.langchain.com/docs/concepts/)と[サードパーティ連携](https://python.langchain.com/docs/integrations/providers/)を使用してアプリケーションを構築します。[LangGraph](https://python.langchain.com/docs/concepts/architecture/#langgraph)を使用して、ストリーミングと人間のループサポートを備えたステートフルエージェントを構築します。\n",
    "- **プロダクション化:** [LangSmith](https://docs.smith.langchain.com/)を使用してアプリケーションを検査、監視、評価し、継続的に最適化して自信を持ってデプロイできます。\n",
    "- **デプロイメント:** [LangGraphプラットフォーム](https://langchain-ai.github.io/langgraph/cloud/)を使用して、LangGraphアプリケーションを本番対応のAPIおよびアシスタントに変換します。\n",
    "\n",
    "![](https://python.langchain.com/svg/langchain_stack_112024.svg)"
   ]
  },
  {
   "cell_type": "markdown",
   "metadata": {
    "application/vnd.databricks.v1+cell": {
     "cellMetadata": {},
     "inputWidgets": {},
     "nuid": "d2c522a8-5098-4467-9caa-7ec095658299",
     "showTitle": false,
     "tableResultSettingsMap": {},
     "title": ""
    }
   },
   "source": [
    "LangChainは、大規模言語モデルや埋め込みモデル、ベクトルストアなどの関連技術のための標準インターフェースを実装し、数百のプロバイダーと統合しています。詳細は[integrations](https://python.langchain.com/docs/integrations/providers/)のページをご覧ください。"
   ]
  },
  {
   "cell_type": "code",
   "execution_count": 0,
   "metadata": {
    "application/vnd.databricks.v1+cell": {
     "cellMetadata": {
      "byteLimit": 2048000,
      "rowLimit": 10000
     },
     "inputWidgets": {},
     "nuid": "884100a2-bb3b-4f22-8a5b-02b779c5f60b",
     "showTitle": false,
     "tableResultSettingsMap": {},
     "title": ""
    }
   },
   "outputs": [],
   "source": [
    "%pip install -qU langchain[openai] databricks-langchain mlflow\n",
    "%restart_python"
   ]
  },
  {
   "cell_type": "code",
   "execution_count": 0,
   "metadata": {
    "application/vnd.databricks.v1+cell": {
     "cellMetadata": {
      "byteLimit": 2048000,
      "rowLimit": 10000
     },
     "inputWidgets": {},
     "nuid": "1366e667-193b-4b97-a2e1-8ea67e63e544",
     "showTitle": false,
     "tableResultSettingsMap": {},
     "title": ""
    }
   },
   "outputs": [],
   "source": [
    "import mlflow\n",
    "\n",
    "# MLflow Tracingの有効化\n",
    "mlflow.langchain.autolog()"
   ]
  },
  {
   "cell_type": "markdown",
   "metadata": {
    "application/vnd.databricks.v1+cell": {
     "cellMetadata": {},
     "inputWidgets": {},
     "nuid": "4e47f78a-a33d-4443-bee2-114cf7972c9d",
     "showTitle": false,
     "tableResultSettingsMap": {},
     "title": ""
    }
   },
   "source": [
    "## OpenAI"
   ]
  },
  {
   "cell_type": "code",
   "execution_count": 0,
   "metadata": {
    "application/vnd.databricks.v1+cell": {
     "cellMetadata": {
      "byteLimit": 2048000,
      "rowLimit": 10000
     },
     "inputWidgets": {},
     "nuid": "755fa9df-d6d3-42c3-8d15-36f78ab9346c",
     "showTitle": false,
     "tableResultSettingsMap": {},
     "title": ""
    }
   },
   "outputs": [],
   "source": [
    "import os\n",
    "os.environ[\"OPENAI_API_KEY\"] = dbutils.secrets.get(\"demo-token-takaaki.yayoi\", \"openai_api_key\")"
   ]
  },
  {
   "cell_type": "code",
   "execution_count": 0,
   "metadata": {
    "application/vnd.databricks.v1+cell": {
     "cellMetadata": {
      "byteLimit": 2048000,
      "rowLimit": 10000
     },
     "inputWidgets": {},
     "nuid": "b92a7990-af58-48b8-852a-882e495b4bb6",
     "showTitle": false,
     "tableResultSettingsMap": {},
     "title": ""
    }
   },
   "outputs": [],
   "source": [
    "from langchain.chat_models import init_chat_model\n",
    "\n",
    "model = init_chat_model(\"gpt-4o-mini\", model_provider=\"openai\")\n",
    "model.invoke(\"こんにちは、世界！\")"
   ]
  },
  {
   "cell_type": "markdown",
   "metadata": {
    "application/vnd.databricks.v1+cell": {
     "cellMetadata": {},
     "inputWidgets": {},
     "nuid": "e747f2ba-0639-49f5-a39b-1ab81e5883ce",
     "showTitle": false,
     "tableResultSettingsMap": {},
     "title": ""
    }
   },
   "source": [
    "## Databricks"
   ]
  },
  {
   "cell_type": "code",
   "execution_count": 0,
   "metadata": {
    "application/vnd.databricks.v1+cell": {
     "cellMetadata": {
      "byteLimit": 2048000,
      "rowLimit": 10000
     },
     "inputWidgets": {},
     "nuid": "56d01428-bc57-47d5-8984-57711ee20aa0",
     "showTitle": false,
     "tableResultSettingsMap": {},
     "title": ""
    }
   },
   "outputs": [],
   "source": [
    "from databricks_langchain import ChatDatabricks\n",
    "\n",
    "model = ChatDatabricks(endpoint=\"databricks-meta-llama-3-3-70b-instruct\")\n",
    "model.invoke(\"こんにちは、世界！\")"
   ]
  },
  {
   "cell_type": "markdown",
   "metadata": {
    "application/vnd.databricks.v1+cell": {
     "cellMetadata": {},
     "inputWidgets": {},
     "nuid": "1b15a9f8-3c80-433c-9f2e-1d8a331c0f3b",
     "showTitle": false,
     "tableResultSettingsMap": {},
     "title": ""
    }
   },
   "source": [
    "## アーキテクチャ\n",
    "\n",
    "LangChainフレームワークは複数のオープンソースライブラリで構成されています。詳細は[アーキテクチャ](https://python.langchain.com/docs/concepts/architecture/)ページをご覧ください。\n",
    "\n",
    "- **`langchain-core`**: チャットモデルやその他のコンポーネントの基本的な抽象化。\n",
    "- 統合パッケージ（例: `langchain-openai`, `langchain-anthropic`など）: 重要な統合は軽量パッケージに分割され、LangChainチームと統合開発者によって共同で管理されています。\n",
    "- **`langchain`**: アプリケーションの認知アーキテクチャを構成するチェーン、エージェント、および検索戦略。\n",
    "- **`langchain-community`**: コミュニティによって管理されているサードパーティの統合。\n",
    "- **`langgraph`**: 永続性、ストリーミング、その他の重要な機能を備えた本番対応アプリケーションにLangChainコンポーネントを組み合わせるためのオーケストレーションフレームワーク。[LangGraphのドキュメント](https://langchain-ai.github.io/langgraph/)を参照してください。"
   ]
  }
 ],
 "metadata": {
  "application/vnd.databricks.v1+notebook": {
   "computePreferences": null,
   "dashboards": [],
   "environmentMetadata": {
    "base_environment": "",
    "environment_version": "2"
   },
   "language": "python",
   "notebookMetadata": {
    "pythonIndentUnit": 2
   },
   "notebookName": "1. Langchainイントロダクション",
   "widgets": {}
  },
  "language_info": {
   "name": "python"
  }
 },
 "nbformat": 4,
 "nbformat_minor": 0
}
