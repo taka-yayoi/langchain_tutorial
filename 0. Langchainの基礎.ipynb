{
 "cells": [
  {
   "cell_type": "markdown",
   "metadata": {
    "application/vnd.databricks.v1+cell": {
     "cellMetadata": {},
     "inputWidgets": {},
     "nuid": "b02b03c0-7a0d-4272-8c67-de33d15ea92e",
     "showTitle": false,
     "tableResultSettingsMap": {},
     "title": ""
    }
   },
   "source": [
    "# Langchainの基礎\n",
    "\n",
    "LangChainが取り組もうとする主要な要件がいくつか存在します:\n",
    "\n",
    "1. **標準化されたコンポーネントインタフェース:** AIアプリケーションにおけるモデルと関連コンポーネントの数は増加し続け、結果として、開発者が学び、活用する必要のあるAPIの種類は膨大なものになっています。この多様性は、開発者がアプリケーションを構築する際にプロバイダーを切り替えたり、コンポーネントを組み合わせることを困難にします。LangChainはキーとなるコンポーネントに対する標準インタフェースを公開するので、プロバイダー間での切り替えが容易となります。\n",
    "1. **オーケストレーション:** アプリケーションは複雑になり、複数のコンポーネントやモデルを組み合わせることになり、[多様なタスクを達成](https://www.sequoiacap.com/article/generative-ais-act-o1/)できる[コントロールフローにこれらの要素を効率的に接続する要件が高まっています](https://lilianweng.github.io/posts/2023-06-23-agent/)。そのようなアプリケーションの構築においては[オーケストレーション](https://en.wikipedia.org/wiki/Orchestration_(computing))が重要となります。\n",
    "1. **観測可能性と評価:** アプリケーションはさらに複雑になると、それらの内部で何が起きているのかを理解することが非常に困難になります。さらに、[選択のパラドクス](https://en.wikipedia.org/wiki/Paradox_of_choice)によって開発のペースが制限されることもあり得ます。例えば、多くの場合において開発者は、プロンプトをどのようにエンジアリングするのか、どのLLMが最も精度、レイテンシー、コストのバランスを取るのかに迷うことになります。[観測可能性](https://en.wikipedia.org/wiki/Observability)と評価は、開発者が自身のアプリケーションをモニタリングし、自信を持ってこのような質問に迅速に回答する助けとなります。\n",
    "\n",
    "[Why LangChain? \\| 🦜️🔗 LangChain](https://python.langchain.com/docs/concepts/why_langchain/)"
   ]
  },
  {
   "cell_type": "markdown",
   "metadata": {
    "application/vnd.databricks.v1+cell": {
     "cellMetadata": {},
     "inputWidgets": {},
     "nuid": "7888a164-4ec1-4165-bbf1-64722e534116",
     "showTitle": false,
     "tableResultSettingsMap": {},
     "title": ""
    }
   },
   "source": [
    "こちらでは以下をウォークスルーします。\n",
    "\n",
    "1. [Langchainイントロダクション]($1. Langchainイントロダクション)\n",
    "1. [シンプルなLLMアプリケーションの構築]($2. シンプルなLLMアプリケーションの構築)\n",
    "1. [チャットボットの構築]($3. チャットボットの構築)\n",
    "1. [RAG]($4. RAG)\n",
    "1. [エージェントの構築]($5. エージェントの構築)"
   ]
  }
 ],
 "metadata": {
  "application/vnd.databricks.v1+notebook": {
   "computePreferences": null,
   "dashboards": [],
   "environmentMetadata": {
    "base_environment": "",
    "environment_version": "2"
   },
   "language": "python",
   "notebookMetadata": {
    "pythonIndentUnit": 2
   },
   "notebookName": "0. Langchainの基礎",
   "widgets": {}
  },
  "language_info": {
   "name": "python"
  }
 },
 "nbformat": 4,
 "nbformat_minor": 0
}
